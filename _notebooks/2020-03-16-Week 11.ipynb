{
 "cells": [
  {
   "cell_type": "code",
   "execution_count": null,
   "id": "secondary-current",
   "metadata": {},
   "outputs": [],
   "source": [
    "#hide\n",
    "!pip install -Uqq fastbook\n",
    "import fastbook\n",
    "fastbook.setup_book()"
   ]
  },
  {
   "cell_type": "code",
   "execution_count": null,
   "id": "metric-exposure",
   "metadata": {},
   "outputs": [],
   "source": [
    "#hide\n",
    "from fastbook import *"
   ]
  },
  {
   "cell_type": "code",
   "execution_count": null,
   "id": "nuclear-deadline",
   "metadata": {},
   "outputs": [],
   "source": [
    "path = Path('ICLR Workshop')"
   ]
  },
  {
   "cell_type": "code",
   "execution_count": null,
   "id": "round-taste",
   "metadata": {},
   "outputs": [],
   "source": [
    "path.ls()"
   ]
  },
  {
   "cell_type": "code",
   "execution_count": null,
   "id": "alleged-scout",
   "metadata": {},
   "outputs": [],
   "source": [
    "train = path/\"train\""
   ]
  },
  {
   "cell_type": "code",
   "execution_count": null,
   "id": "inappropriate-tracy",
   "metadata": {},
   "outputs": [],
   "source": [
    "train.ls()"
   ]
  },
  {
   "cell_type": "code",
   "execution_count": null,
   "id": "interracial-daniel",
   "metadata": {},
   "outputs": [],
   "source": [
    "fns = get_image_files(train)\n",
    "fns"
   ]
  },
  {
   "cell_type": "code",
   "execution_count": null,
   "id": "accepting-vacuum",
   "metadata": {},
   "outputs": [],
   "source": [
    "failed = verify_images(fns)\n",
    "failed"
   ]
  },
  {
   "cell_type": "code",
   "execution_count": null,
   "id": "cleared-departure",
   "metadata": {},
   "outputs": [],
   "source": [
    "failed.map(Path.unlink)"
   ]
  },
  {
   "cell_type": "code",
   "execution_count": null,
   "id": "local-reconstruction",
   "metadata": {},
   "outputs": [],
   "source": [
    "fns[0]"
   ]
  },
  {
   "cell_type": "code",
   "execution_count": null,
   "id": "olive-rhythm",
   "metadata": {},
   "outputs": [],
   "source": [
    "def get_y(p):\n",
    "    return [parent_label(p)]"
   ]
  },
  {
   "cell_type": "code",
   "execution_count": null,
   "id": "vietnamese-reputation",
   "metadata": {},
   "outputs": [],
   "source": [
    "dBlock = DataBlock(blocks=(ImageBlock, MultiCategoryBlock),\n",
    "                   get_items = get_image_files,\n",
    "                   splitter = RandomSplitter(valid_pct = .2, seed = 11),\n",
    "                   get_y = get_y,\n",
    "                   item_tfms = RandomResizedCrop(512, min_scale=0.35))"
   ]
  },
  {
   "cell_type": "code",
   "execution_count": null,
   "id": "exact-interest",
   "metadata": {},
   "outputs": [],
   "source": [
    "dls = dBlock.dataloaders(train, num_workers=0)\n",
    "dls.train.show_batch(max_n=8, nrows=2, unique=False)"
   ]
  },
  {
   "cell_type": "code",
   "execution_count": null,
   "id": "killing-fifteen",
   "metadata": {},
   "outputs": [],
   "source": [
    "learn = cnn_learner(dls, alexnet, metrics = partial(accuracy_multi, thresh = 0.2))\n",
    "learn.fine_tune(5)"
   ]
  },
  {
   "cell_type": "code",
   "execution_count": null,
   "id": "democratic-portal",
   "metadata": {},
   "outputs": [],
   "source": [
    "preds,targs = learn.get_preds()"
   ]
  },
  {
   "cell_type": "code",
   "execution_count": null,
   "id": "super-software",
   "metadata": {},
   "outputs": [],
   "source": [
    "xs = torch.linspace(0.05,0.95,29)\n",
    "accs = [accuracy_multi(preds, targs, thresh=i, sigmoid=False) for i in xs]\n",
    "plt.plot(xs,accs)"
   ]
  },
  {
   "cell_type": "code",
   "execution_count": null,
   "id": "liable-firewall",
   "metadata": {},
   "outputs": [],
   "source": [
    "learn.metrics = partial(accuracy_multi, thresh=0.75)\n",
    "learn.validate()"
   ]
  },
  {
   "cell_type": "code",
   "execution_count": null,
   "id": "powered-northeast",
   "metadata": {},
   "outputs": [],
   "source": [
    "test = path/\"test\""
   ]
  },
  {
   "cell_type": "code",
   "execution_count": null,
   "id": "dressed-forum",
   "metadata": {},
   "outputs": [],
   "source": [
    "test.ls()"
   ]
  },
  {
   "cell_type": "code",
   "execution_count": null,
   "id": "discrete-numbers",
   "metadata": {},
   "outputs": [],
   "source": [
    "test_gif = get_image_files(test)\n",
    "test_gif"
   ]
  },
  {
   "cell_type": "code",
   "execution_count": null,
   "id": "suffering-parking",
   "metadata": {},
   "outputs": [],
   "source": [
    "failed_test_gif = verify_images(test_gif)\n",
    "failed_test_gif"
   ]
  },
  {
   "cell_type": "code",
   "execution_count": null,
   "id": "synthetic-tokyo",
   "metadata": {},
   "outputs": [],
   "source": [
    "failed_test_gif.map(Path.unlink)"
   ]
  },
  {
   "cell_type": "code",
   "execution_count": null,
   "id": "hydraulic-homework",
   "metadata": {},
   "outputs": [],
   "source": [
    "test_gif[0]"
   ]
  },
  {
   "cell_type": "code",
   "execution_count": null,
   "id": "prepared-firmware",
   "metadata": {},
   "outputs": [],
   "source": [
    "from pathlib import Path\n",
    "df = pd.read_csv(path/\"sample_submission.csv\", index_col=\"ID\")\n",
    "#test_gif.sort()\n",
    "\n",
    "for o in test_gif:\n",
    "    fileName = Path(o).stem\n",
    "    learn_pd = learn.predict(o)\n",
    "    lst = learn_pd[0]\n",
    "    df.loc[fileName] = [1 if \"leaf_rust\" in lst else 0, 1 if \"stem_rust\" in lst else 0, 1 if \"healthy_wheat\" in lst else 0]\n",
    "df"
   ]
  },
  {
   "cell_type": "code",
   "execution_count": null,
   "id": "level-harbor",
   "metadata": {},
   "outputs": [],
   "source": [
    "df.to_csv(path/\"weee.csv\")"
   ]
  },
  {
   "cell_type": "code",
   "execution_count": null,
   "id": "accepted-valve",
   "metadata": {},
   "outputs": [],
   "source": []
  }
 ],
 "metadata": {
  "kernelspec": {
   "display_name": "Python 3",
   "language": "python",
   "name": "python3"
  },
  "language_info": {
   "codemirror_mode": {
    "name": "ipython",
    "version": 3
   },
   "file_extension": ".py",
   "mimetype": "text/x-python",
   "name": "python",
   "nbconvert_exporter": "python",
   "pygments_lexer": "ipython3",
   "version": "3.8.5"
  }
 },
 "nbformat": 4,
 "nbformat_minor": 5
}
